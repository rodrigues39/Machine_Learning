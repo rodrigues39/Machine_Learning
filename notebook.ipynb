# importando as bibliotecas
import pandas as pd
import numpy as np

# tratamento e visualização dos dados
from sklearn.model_selection import train_test_split
import matplotlib.pyplot as plt
import seaborn as sns
from sklearn.preprocessing import StandardScaler

# criação da rede ML
import torch
import torch.nn as nn
import torch.optim as optim
from torch.utils.data import DataLoader, TensorDataset

# Analise das métricas
from sklearn.metrics import confusion_matrix,f1_score,accuracy_score,classification_report

df =pd.read_csv("/kaggle/input/predict-customer-purchase-behavior-dataset/customer_purchase_data.csv")
df.head()
